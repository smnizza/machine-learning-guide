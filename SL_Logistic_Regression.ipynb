{
  "nbformat": 4,
  "nbformat_minor": 0,
  "metadata": {
    "colab": {
      "provenance": [],
      "authorship_tag": "ABX9TyMcGt/Fy92JPQGRzI3p4uv6",
      "include_colab_link": true
    },
    "kernelspec": {
      "name": "python3",
      "display_name": "Python 3"
    },
    "language_info": {
      "name": "python"
    }
  },
  "cells": [
    {
      "cell_type": "markdown",
      "metadata": {
        "id": "view-in-github",
        "colab_type": "text"
      },
      "source": [
        "<a href=\"https://colab.research.google.com/github/smnizza/machine_learning/blob/main/SL_Logistic_Regression.ipynb\" target=\"_parent\"><img src=\"https://colab.research.google.com/assets/colab-badge.svg\" alt=\"Open In Colab\"/></a>"
      ]
    },
    {
      "cell_type": "markdown",
      "source": [
        "# Logistic Regression – Klasifikasi Biner\n",
        "Logistic Regression adalah metode dalam Machine Learning yang digunakan untuk **klasifikasi**, terutama **klasifikasi biner** (dua kelas).\n",
        "\n",
        "Berbeda dengan Linear Regression yang menghasilkan nilai kontinu, Logistic Regression menghasilkan probabilitas dalam rentang **0 hingga 1**, yang kemudian dikonversi menjadi **label kelas** (misalnya 0 atau 1).\n",
        "\n",
        "Fungsi utama yang digunakan dalam Logistic Regression adalah **fungsi sigmoid**:\n",
        "\n",
        "$$\n",
        "P(Y=1 | X) = \\frac{1}{1 + e^{-(b_0 + b_1X)}}\n",
        "$$\n",
        "\n",
        "di mana:\n",
        "- $P(Y=1 | X)$ = Probabilitas output berada di kelas 1\n",
        "- $b_0$ = Intercept\n",
        "- $b_1$ = Koefisien regresi\n",
        "- $X$ = Variabel input (feature)\n"
      ],
      "metadata": {
        "id": "Lq7NqZ4Dp7Pd"
      }
    },
    {
      "cell_type": "markdown",
      "source": [
        "## Konsep Dasar Logistic Regression\n",
        "1. **Probabilitas dan Fungsi Sigmoid** – Mengubah hasil prediksi menjadi nilai antara 0 dan 1 menggunakan fungsi sigmoid.\n",
        "2. **Threshold Decision** – Jika nilai probabilitas ≥ 0.5, maka diklasifikasikan sebagai 1 (positif), jika < 0.5 maka diklasifikasikan sebagai 0 (negatif).\n",
        "3. **Loss Function (Log Loss)** – Menggunakan fungsi **Binary Cross-Entropy**:\n",
        "\n",
        "$$\n",
        "Loss = -\\frac{1}{n} \\sum_{i=1}^{n} \\left[ y_i \\log(\\hat{y_i}) + (1 - y_i) \\log(1 - \\hat{y_i}) \\right]\n",
        "$$\n",
        "\n",
        "4. **Gradient Descent** – Algoritma optimasi untuk mencari parameter terbaik.\n"
      ],
      "metadata": {
        "id": "NCdqg0F1qEW8"
      }
    },
    {
      "cell_type": "markdown",
      "source": [
        "## Implementasi Logistic Regression\n",
        "Kita akan menggunakan dataset sederhana untuk memprediksi apakah seorang pelanggan akan membeli produk berdasarkan pendapatan mereka."
      ],
      "metadata": {
        "id": "5x4ri16XqIYM"
      }
    },
    {
      "cell_type": "code",
      "source": [
        "import numpy as np\n",
        "import matplotlib.pyplot as plt\n",
        "import seaborn as sns\n",
        "from sklearn.model_selection import train_test_split\n",
        "from sklearn.linear_model import LogisticRegression\n",
        "from sklearn.metrics import accuracy_score, confusion_matrix, classification_report\n",
        "\n",
        "# Dataset contoh: Pendapatan (juta) dan Keputusan Membeli (0 = Tidak, 1 = Ya)\n",
        "X = np.array([15, 18, 20, 22, 24, 26, 30, 35, 40, 50]).reshape(-1, 1)\n",
        "y = np.array([0, 0, 0, 0, 0, 1, 1, 1, 1, 1])  # 0 = Tidak beli, 1 = Beli\n",
        "\n",
        "# Split data menjadi training (80%) dan testing (20%)\n",
        "X_train, X_test, y_train, y_test = train_test_split(X, y, test_size=0.2, random_state=42)\n",
        "\n",
        "# Membuat model Logistic Regression\n",
        "model = LogisticRegression()\n",
        "model.fit(X_train, y_train)\n",
        "\n",
        "# Prediksi hasil\n",
        "y_pred = model.predict(X_test)\n",
        "\n",
        "# Evaluasi model\n",
        "accuracy = accuracy_score(y_test, y_pred)\n",
        "print(f\"Accuracy: {accuracy:.2f}\")\n",
        "print(\"\\nConfusion Matrix:\\n\", confusion_matrix(y_test, y_pred))\n",
        "print(\"\\nClassification Report:\\n\", classification_report(y_test, y_pred))\n",
        "\n",
        "# Visualisasi hasil regresi logistik\n",
        "X_range = np.linspace(10, 55, 100).reshape(-1, 1)\n",
        "y_prob = model.predict_proba(X_range)[:, 1]\n",
        "\n",
        "plt.scatter(X, y, color=\"blue\", label=\"Data Asli\")\n",
        "plt.plot(X_range, y_prob, color=\"red\", linestyle=\"--\", label=\"Probabilitas Prediksi\")\n",
        "plt.xlabel(\"Pendapatan (Juta)\")\n",
        "plt.ylabel(\"Probabilitas Membeli\")\n",
        "plt.legend()\n",
        "plt.show()"
      ],
      "metadata": {
        "colab": {
          "base_uri": "https://localhost:8080/",
          "height": 741
        },
        "id": "mNXrNrshqKNW",
        "outputId": "4af198fd-2248-4415-b44b-19dd849cb297"
      },
      "execution_count": 1,
      "outputs": [
        {
          "output_type": "stream",
          "name": "stdout",
          "text": [
            "Accuracy: 1.00\n",
            "\n",
            "Confusion Matrix:\n",
            " [[1 0]\n",
            " [0 1]]\n",
            "\n",
            "Classification Report:\n",
            "               precision    recall  f1-score   support\n",
            "\n",
            "           0       1.00      1.00      1.00         1\n",
            "           1       1.00      1.00      1.00         1\n",
            "\n",
            "    accuracy                           1.00         2\n",
            "   macro avg       1.00      1.00      1.00         2\n",
            "weighted avg       1.00      1.00      1.00         2\n",
            "\n"
          ]
        },
        {
          "output_type": "display_data",
          "data": {
            "text/plain": [
              "<Figure size 640x480 with 1 Axes>"
            ],
            "image/png": "[encoded data removed]"
          },
          "metadata": {}
        }
      ]
    },
    {
      "cell_type": "markdown",
      "source": [
        "## Kesimpulan\n",
        "Logistic Regression adalah model yang sering digunakan untuk **klasifikasi biner**.\n",
        "\n",
        "✅ **Kelebihan Logistic Regression**\n",
        "- Mudah diimplementasikan dan cepat dieksekusi.\n",
        "- Hasilnya dapat diinterpretasikan karena menggunakan probabilitas.\n",
        "- Tidak membutuhkan banyak data.\n",
        "\n",
        "❌ **Kekurangan Logistic Regression**\n",
        "- Tidak bisa menangani hubungan non-linier dengan baik tanpa fitur tambahan.\n",
        "- Tidak bekerja optimal dengan fitur yang memiliki hubungan kompleks.\n",
        "\n",
        "### **Pengembangan Lebih Lanjut**\n",
        "- **Menggunakan Logistic Regression untuk klasifikasi multi-kelas (One-vs-Rest).**\n",
        "- **Menggunakan fitur tambahan untuk menangani hubungan non-linier.**\n",
        "- **Menguji algoritma klasifikasi lain seperti Decision Tree atau Random Forest.**"
      ],
      "metadata": {
        "id": "iUiIscPkqMIF"
      }
    }
  ]
}