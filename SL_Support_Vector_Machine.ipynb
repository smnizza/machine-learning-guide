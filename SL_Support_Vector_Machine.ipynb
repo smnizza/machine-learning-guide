{
  "nbformat": 4,
  "nbformat_minor": 0,
  "metadata": {
    "colab": {
      "provenance": [],
      "authorship_tag": "ABX9TyNEXAOmZoSQpH6P9dZeIsdo",
      "include_colab_link": true
    },
    "kernelspec": {
      "name": "python3",
      "display_name": "Python 3"
    },
    "language_info": {
      "name": "python"
    }
  },
  "cells": [
    {
      "cell_type": "markdown",
      "metadata": {
        "id": "view-in-github",
        "colab_type": "text"
      },
      "source": [
        "<a href=\"https://colab.research.google.com/github/smnizza/machine_learning/blob/main/SL_Support_Vector_Machine.ipynb\" target=\"_parent\"><img src=\"https://colab.research.google.com/assets/colab-badge.svg\" alt=\"Open In Colab\"/></a>"
      ]
    },
    {
      "cell_type": "markdown",
      "source": [
        "# Support Vector Machine (SVM) – Pemisahan Kelas Menggunakan Hyperplane\n",
        "Support Vector Machine (SVM) adalah algoritma pembelajaran mesin yang digunakan untuk **klasifikasi dan regresi**. SVM bekerja dengan **mencari hyperplane terbaik** yang memisahkan data ke dalam dua kelas dengan **margin terbesar**.\n",
        "\n",
        "## Konsep Dasar SVM\n",
        "1. **Hyperplane**: Garis pemisah (untuk 2D) atau bidang pemisah (untuk 3D atau lebih) antara dua kelas.\n",
        "2. **Support Vectors**: Titik-titik data yang paling dekat dengan hyperplane dan menentukan posisi optimalnya.\n",
        "3. **Margin Maksimal**: Jarak antara hyperplane dengan support vectors harus **sebesar mungkin** agar pemisahan lebih optimal.\n",
        "\n",
        "✅ **Kelebihan SVM**:\n",
        "- Cocok untuk **data berdimensi tinggi**.\n",
        "- Efektif dalam kasus **data tidak teratur atau tidak terpisah secara linier**.\n",
        "- Bisa digunakan untuk **klasifikasi non-linear** dengan menggunakan **Kernel Trick**.\n",
        "\n",
        "❌ **Kekurangan SVM**:\n",
        "- **Kurang optimal untuk dataset yang sangat besar** karena komputasi yang mahal.\n",
        "- **Sulit untuk diinterpretasikan** dibandingkan Decision Tree."
      ],
      "metadata": {
        "id": "OytgxfstrxSz"
      }
    },
    {
      "cell_type": "markdown",
      "source": [
        "## Implementasi SVM\n",
        "Kita akan menggunakan dataset contoh untuk mengklasifikasikan apakah seorang pelanggan membeli produk berdasarkan usia dan pendapatannya."
      ],
      "metadata": {
        "id": "TJP1DGpAr17d"
      }
    },
    {
      "cell_type": "code",
      "source": [
        "import numpy as np\n",
        "import pandas as pd\n",
        "import matplotlib.pyplot as plt\n",
        "import seaborn as sns\n",
        "from sklearn.model_selection import train_test_split\n",
        "from sklearn.svm import SVC\n",
        "from sklearn.metrics import accuracy_score, confusion_matrix, classification_report\n",
        "\n",
        "# Contoh dataset: Usia dan Pendapatan vs Keputusan Membeli\n",
        "data = {\n",
        "    \"Usia\": [25, 30, 35, 40, 45, 20, 50, 60, 55, 23],\n",
        "    \"Pendapatan\": [30, 50, 70, 90, 110, 20, 130, 140, 120, 25],\n",
        "    \"Membeli\": [0, 0, 0, 1, 1, 0, 1, 1, 1, 0]  # 0 = Tidak Beli, 1 = Beli\n",
        "}\n",
        "\n",
        "df = pd.DataFrame(data)\n",
        "\n",
        "# Split data menjadi fitur (X) dan target (y)\n",
        "X = df[[\"Usia\", \"Pendapatan\"]]\n",
        "y = df[\"Membeli\"]\n",
        "\n",
        "# Pisahkan data menjadi training dan testing (80% training, 20% testing)\n",
        "X_train, X_test, y_train, y_test = train_test_split(X, y, test_size=0.2, random_state=42)\n",
        "\n",
        "# Membuat model SVM dengan kernel linear\n",
        "model = SVC(kernel=\"linear\", C=1.0, random_state=42)\n",
        "model.fit(X_train, y_train)\n",
        "\n",
        "# Prediksi hasil\n",
        "y_pred = model.predict(X_test)\n",
        "\n",
        "# Evaluasi model\n",
        "accuracy = accuracy_score(y_test, y_pred)\n",
        "print(f\"Accuracy: {accuracy:.2f}\")\n",
        "print(\"\\nConfusion Matrix:\\n\", confusion_matrix(y_test, y_pred))\n",
        "print(\"\\nClassification Report:\\n\", classification_report(y_test, y_pred))"
      ],
      "metadata": {
        "colab": {
          "base_uri": "https://localhost:8080/"
        },
        "id": "Lktnkefdr3rH",
        "outputId": "98443275-0850-4217-9a29-c166b0580eb2"
      },
      "execution_count": 1,
      "outputs": [
        {
          "output_type": "stream",
          "name": "stdout",
          "text": [
            "Accuracy: 1.00\n",
            "\n",
            "Confusion Matrix:\n",
            " [[1 0]\n",
            " [0 1]]\n",
            "\n",
            "Classification Report:\n",
            "               precision    recall  f1-score   support\n",
            "\n",
            "           0       1.00      1.00      1.00         1\n",
            "           1       1.00      1.00      1.00         1\n",
            "\n",
            "    accuracy                           1.00         2\n",
            "   macro avg       1.00      1.00      1.00         2\n",
            "weighted avg       1.00      1.00      1.00         2\n",
            "\n"
          ]
        }
      ]
    },
    {
      "cell_type": "markdown",
      "source": [
        "## Visualisasi Hyperplane SVM\n",
        "Kita akan memvisualisasikan garis pemisah (hyperplane) yang dibuat oleh SVM."
      ],
      "metadata": {
        "id": "BQasSCZ3r5Ew"
      }
    },
    {
      "cell_type": "code",
      "source": [
        "def plot_svm_boundary(model, X, y):\n",
        "    plt.figure(figsize=(8, 6))\n",
        "\n",
        "    # Plot titik data\n",
        "    sns.scatterplot(x=X[\"Usia\"], y=X[\"Pendapatan\"], hue=y, palette=\"coolwarm\", edgecolor=\"k\")\n",
        "\n",
        "    # Buat meshgrid untuk menggambar decision boundary\n",
        "    x_min, x_max = X[\"Usia\"].min() - 1, X[\"Usia\"].max() + 1\n",
        "    y_min, y_max = X[\"Pendapatan\"].min() - 1, X[\"Pendapatan\"].max() + 1\n",
        "    xx, yy = np.meshgrid(np.linspace(x_min, x_max, 100), np.linspace(y_min, y_max, 100))\n",
        "    Z = model.predict(np.c_[xx.ravel(), yy.ravel()])\n",
        "    Z = Z.reshape(xx.shape)\n",
        "\n",
        "    # Gambar decision boundary\n",
        "    plt.contourf(xx, yy, Z, alpha=0.3, cmap=\"coolwarm\")\n",
        "    plt.xlabel(\"Usia\")\n",
        "    plt.ylabel(\"Pendapatan\")\n",
        "    plt.title(\"Hyperplane SVM\")\n",
        "    plt.show()\n",
        "\n",
        "# Plot hyperplane\n",
        "plot_svm_boundary(model, X_train, y_train)"
      ],
      "metadata": {
        "colab": {
          "base_uri": "https://localhost:8080/",
          "height": 620
        },
        "id": "5G_Pe2elr6ds",
        "outputId": "0dabe2f2-0d02-4860-d91a-79eddcbcd110"
      },
      "execution_count": 2,
      "outputs": [
        {
          "output_type": "stream",
          "name": "stderr",
          "text": [
            "/usr/local/lib/python3.11/dist-packages/sklearn/utils/validation.py:2739: UserWarning: X does not have valid feature names, but SVC was fitted with feature names\n",
            "  warnings.warn(\n"
          ]
        },
        {
          "output_type": "display_data",
          "data": {
            "text/plain": [
              "<Figure size 800x600 with 1 Axes>"
            ],
            "image/png": "[encoded data removed]"
          },
          "metadata": {}
        }
      ]
    },
    {
      "cell_type": "markdown",
      "source": [
        "## Kesimpulan\n",
        "Support Vector Machine (SVM) adalah algoritma yang kuat untuk **klasifikasi**, terutama untuk **data berdimensi tinggi dan non-linear**.\n",
        "\n",
        "### **Kapan Menggunakan SVM?**\n",
        "- Jika dataset **tidak terlalu besar** (karena komputasi SVM bisa mahal).\n",
        "- Jika data memiliki **banyak fitur**.\n",
        "- Jika ingin menggunakan **klasifikasi non-linear** dengan **Kernel Trick**.\n",
        "\n",
        "### **Pengembangan Lebih Lanjut**\n",
        "- **Mencoba kernel lain** seperti `poly`, `rbf`, atau `sigmoid` untuk klasifikasi non-linear.\n",
        "- **Menggunakan SVM untuk deteksi anomali** seperti fraud detection.\n",
        "- **Menyesuaikan parameter C dan gamma** untuk meningkatkan performa model."
      ],
      "metadata": {
        "id": "CZtlKHOZr7dN"
      }
    }
  ]
}