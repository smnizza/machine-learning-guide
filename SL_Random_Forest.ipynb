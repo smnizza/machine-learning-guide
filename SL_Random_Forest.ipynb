{
  "nbformat": 4,
  "nbformat_minor": 0,
  "metadata": {
    "colab": {
      "provenance": [],
      "authorship_tag": "ABX9TyPirmx/VwcVn+SrYgVIBgdx",
      "include_colab_link": true
    },
    "kernelspec": {
      "name": "python3",
      "display_name": "Python 3"
    },
    "language_info": {
      "name": "python"
    }
  },
  "cells": [
    {
      "cell_type": "markdown",
      "metadata": {
        "id": "view-in-github",
        "colab_type": "text"
      },
      "source": [
        "<a href=\"https://colab.research.google.com/github/smnizza/machine_learning/blob/main/SL_Random_Forest.ipynb\" target=\"_parent\"><img src=\"https://colab.research.google.com/assets/colab-badge.svg\" alt=\"Open In Colab\"/></a>"
      ]
    },
    {
      "cell_type": "markdown",
      "source": [
        "# Random Forest – Gabungan Banyak Decision Tree untuk Meningkatkan Akurasi\n",
        "Random Forest adalah metode **ensemble learning** yang menggunakan banyak **Decision Tree** untuk meningkatkan akurasi dan mengurangi overfitting.\n",
        "\n",
        "## Cara Kerja Random Forest\n",
        "1. **Membuat banyak Decision Tree** dari subset data yang berbeda.\n",
        "2. **Setiap pohon menghasilkan prediksinya sendiri**.\n",
        "3. **Menggabungkan hasil prediksi dengan voting mayoritas** (untuk klasifikasi) atau rata-rata (untuk regresi).\n",
        "\n",
        "✅ **Kelebihan Random Forest**:\n",
        "- Lebih stabil dan tidak mudah overfitting dibanding Decision Tree tunggal.\n",
        "- Bisa digunakan untuk **klasifikasi dan regresi**.\n",
        "- Dapat menangani **data dengan banyak fitur**.\n",
        "\n",
        "❌ **Kekurangan Random Forest**:\n",
        "- Lebih lambat dibanding Decision Tree karena ada banyak pohon yang harus dibuat.\n",
        "- Sulit diinterpretasikan dibanding Decision Tree tunggal."
      ],
      "metadata": {
        "id": "7EPIMz69rO8W"
      }
    },
    {
      "cell_type": "markdown",
      "source": [
        "## Implementasi Random Forest\n",
        "Kita akan menggunakan dataset yang sama seperti pada Decision Tree untuk memprediksi apakah seorang pelanggan akan membeli produk."
      ],
      "metadata": {
        "id": "onM2zuDGrSY-"
      }
    },
    {
      "cell_type": "code",
      "source": [
        "import numpy as np\n",
        "import pandas as pd\n",
        "import matplotlib.pyplot as plt\n",
        "import seaborn as sns\n",
        "from sklearn.model_selection import train_test_split\n",
        "from sklearn.ensemble import RandomForestClassifier\n",
        "from sklearn.metrics import accuracy_score, confusion_matrix, classification_report\n",
        "\n",
        "# Contoh dataset: Usia dan Pendapatan vs Keputusan Membeli\n",
        "data = {\n",
        "    \"Usia\": [25, 30, 35, 40, 45, 20, 50, 60, 55, 23],\n",
        "    \"Pendapatan\": [30, 50, 70, 90, 110, 20, 130, 140, 120, 25],\n",
        "    \"Membeli\": [0, 0, 0, 1, 1, 0, 1, 1, 1, 0]  # 0 = Tidak Beli, 1 = Beli\n",
        "}\n",
        "\n",
        "df = pd.DataFrame(data)\n",
        "\n",
        "# Split data menjadi fitur (X) dan target (y)\n",
        "X = df[[\"Usia\", \"Pendapatan\"]]\n",
        "y = df[\"Membeli\"]\n",
        "\n",
        "# Pisahkan data menjadi training dan testing (80% training, 20% testing)\n",
        "X_train, X_test, y_train, y_test = train_test_split(X, y, test_size=0.2, random_state=42)\n",
        "\n",
        "# Membuat model Random Forest dengan 10 pohon keputusan\n",
        "model = RandomForestClassifier(n_estimators=10, criterion=\"entropy\", random_state=42)\n",
        "model.fit(X_train, y_train)\n",
        "\n",
        "# Prediksi hasil\n",
        "y_pred = model.predict(X_test)\n",
        "\n",
        "# Evaluasi model\n",
        "accuracy = accuracy_score(y_test, y_pred)\n",
        "print(f\"Accuracy: {accuracy:.2f}\")\n",
        "print(\"\\nConfusion Matrix:\\n\", confusion_matrix(y_test, y_pred))\n",
        "print(\"\\nClassification Report:\\n\", classification_report(y_test, y_pred))"
      ],
      "metadata": {
        "colab": {
          "base_uri": "https://localhost:8080/"
        },
        "id": "5qpKHfy6rTtc",
        "outputId": "6df43c95-f852-4ca9-d454-f789c3318fe0"
      },
      "execution_count": 1,
      "outputs": [
        {
          "output_type": "stream",
          "name": "stdout",
          "text": [
            "Accuracy: 1.00\n",
            "\n",
            "Confusion Matrix:\n",
            " [[1 0]\n",
            " [0 1]]\n",
            "\n",
            "Classification Report:\n",
            "               precision    recall  f1-score   support\n",
            "\n",
            "           0       1.00      1.00      1.00         1\n",
            "           1       1.00      1.00      1.00         1\n",
            "\n",
            "    accuracy                           1.00         2\n",
            "   macro avg       1.00      1.00      1.00         2\n",
            "weighted avg       1.00      1.00      1.00         2\n",
            "\n"
          ]
        }
      ]
    },
    {
      "cell_type": "markdown",
      "source": [
        "## Analisis Pentingnya Fitur dalam Random Forest\n",
        "Random Forest memungkinkan kita untuk melihat fitur mana yang paling berpengaruh terhadap keputusan akhir."
      ],
      "metadata": {
        "id": "AEfaXaY7rU-H"
      }
    },
    {
      "cell_type": "code",
      "source": [
        "# Menampilkan pentingnya fitur\n",
        "importances = model.feature_importances_\n",
        "feature_names = X.columns\n",
        "\n",
        "# Visualisasi dalam bentuk bar chart\n",
        "plt.figure(figsize=(8, 5))\n",
        "sns.barplot(x=importances, y=feature_names, palette=\"viridis\")\n",
        "plt.xlabel(\"Pentingnya Fitur\")\n",
        "plt.ylabel(\"Fitur\")\n",
        "plt.title(\"Feature Importance dalam Random Forest\")\n",
        "plt.show()"
      ],
      "metadata": {
        "colab": {
          "base_uri": "https://localhost:8080/",
          "height": 585
        },
        "id": "vWH944zGrVzL",
        "outputId": "b1039070-6591-4eb3-97ce-a3a2e17a4de4"
      },
      "execution_count": 2,
      "outputs": [
        {
          "output_type": "stream",
          "name": "stderr",
          "text": [
            "<ipython-input-2-62cec0ec51c5>:7: FutureWarning: \n",
            "\n",
            "Passing `palette` without assigning `hue` is deprecated and will be removed in v0.14.0. Assign the `y` variable to `hue` and set `legend=False` for the same effect.\n",
            "\n",
            "  sns.barplot(x=importances, y=feature_names, palette=\"viridis\")\n"
          ]
        },
        {
          "output_type": "display_data",
          "data": {
            "text/plain": [
              "<Figure size 800x500 with 1 Axes>"
            ],
            "image/png": "[encoded data removed]"
          },
          "metadata": {}
        }
      ]
    },
    {
      "cell_type": "markdown",
      "source": [
        "## Kesimpulan\n",
        "Random Forest adalah algoritma yang kuat untuk **klasifikasi dan regresi** karena:\n",
        "- Mengurangi **overfitting** dibandingkan Decision Tree.\n",
        "- Memberikan hasil lebih akurat karena menggunakan banyak pohon keputusan.\n",
        "\n",
        "### **Pengembangan Lebih Lanjut**\n",
        "- **Menyesuaikan jumlah pohon (n_estimators) untuk hasil lebih optimal.**\n",
        "- **Menggunakan Random Forest untuk dataset lebih besar seperti prediksi kesehatan atau keuangan.**\n",
        "- **Menggunakan GridSearchCV untuk mencari hyperparameter terbaik.**"
      ],
      "metadata": {
        "id": "y0VrbwoWrWpY"
      }
    }
  ]
}